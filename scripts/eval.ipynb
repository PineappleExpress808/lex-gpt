{
 "cells": [
  {
   "cell_type": "code",
   "execution_count": 24,
   "metadata": {},
   "outputs": [],
   "source": [
    "import re\n",
    "import time\n",
    "import json\n",
    "import numpy as np\n",
    "import pandas as pd\n",
    "from langchain.vectorstores import Chroma\n",
    "from langchain.chat_models import ChatOpenAI\n",
    "from langchain.chains import QAGenerationChain\n",
    "from langchain.document_loaders import TextLoader\n",
    "from langchain.embeddings.openai import OpenAIEmbeddings\n",
    "from langchain.text_splitter import RecursiveCharacterTextSplitter\n",
    "\n",
    "from langchain.llms import OpenAI\n",
    "from langchain.vectorstores import Chroma\n",
    "from langchain.vectorstores import FAISS\n",
    "from langchain.chains import VectorDBQA\n",
    "from langchain.evaluation.qa import QAEvalChain"
   ]
  },
  {
   "cell_type": "code",
   "execution_count": 2,
   "metadata": {},
   "outputs": [],
   "source": [
    "# Read\n",
    "episode_id = \"0333\"\n",
    "doc = pd.read_csv(\"audio_transcription/%s.txt\"%episode_id,sep='\\t')\n",
    "doc.columns=['links','time','chunks']\n",
    "\n",
    "# Clean text chunks \n",
    "doc['clean_chunks']=doc['chunks'].astype(str).apply(lambda x: x.strip())\n",
    "\n",
    "# Write updated file (b/c we isolate sections for question-answer formulation below)\n",
    "with open('audio_transcription/%s_text.txt'%episode_id, \"w\") as f:\n",
    "    for i in doc.index:\n",
    "        string = doc.loc[i,'clean_chunks']\n",
    "        f.write(string + \"\\n\") "
   ]
  },
  {
   "cell_type": "code",
   "execution_count": 4,
   "metadata": {},
   "outputs": [
    {
     "data": {
      "text/plain": [
       "[{'question': 'What is the transformer architecture in deep learning?',\n",
       "  'answer': 'The transformer architecture is a neural network architecture that is general purpose and can process different sensory modalities like vision, audio, text, and video. It is simultaneously expressive in the forward pass, optimizable via backpropagation, gradient descent, and efficient high parallelism compute graph.'},\n",
       " {'question': 'What is a transformer and how is it designed?',\n",
       "  'answer': 'A transformer is a series of blocks with attention and a multilayer perceptron. It is designed to be very expressive in a forward pass, optimizable in a backward pass, and efficient in hardware. The residual connections support the ability to learn short algorithms fast and first, and then gradually extend them longer during training.'},\n",
       " {'question': 'What is a transformer architecture and why is it important?',\n",
       "  'answer': 'A transformer architecture is a type of neural network that is remarkably resilient and can simultaneously optimize for lots of properties of a desirable neural network architecture. It is important because it is a big step in AI and has proven to be extremely powerful and can solve arbitrary problems.'},\n",
       " {'question': 'What is a language model and how does it work?',\n",
       "  'answer': 'A language model is a system that predicts the next word in a sequence of words. It can be done using count-based models like Ngram models or neural networks. When using a neural network, a large dataset of text is used to predict the next word, and in order to do that well, the system needs to understand the context of the words.'},\n",
       " {'question': \"What is the author's opinion on the transition to software 2.0?\",\n",
       "  'answer': \"The author believes that neural nets are taking over software and that the way we program computers is going to change. The author thinks that at some point, there's going to be a compilation process from the data sets and the objective and the architecture specification into the binary, which is really just the neural net weights and the forward pass of the neural net.\"},\n",
       " {'question': 'What is the task of programming in software 2.0?',\n",
       "  'answer': 'The task of programming in software 2.0 is changing the data set and loss functions of the neural net, as well as specifying the architecture of the neural net.'},\n",
       " {'question': 'What are the three properties of a good dataset for supervised learning?',\n",
       "  'answer': 'The three properties of a good dataset for supervised learning are that it needs to be large, accurate, and diverse.'}]"
      ]
     },
     "execution_count": 4,
     "metadata": {},
     "output_type": "execute_result"
    }
   ],
   "source": [
    "# Note: feeding complete file failed for non-obvious reasons (JSON error; searched at length for invalid chars but could not find)\n",
    "# In any case, I fed small chunks of the dataset into the QA generation and it worked (and maybe improved the QA since inputs were selected \n",
    "filename = 'audio_transcription/0333_text_transformer.txt'\n",
    "loader = TextLoader(filename)\n",
    "doc_karpathy = loader.load()[0]\n",
    "txt_transformer = doc_karpathy.page_content\n",
    "\n",
    "filename = 'audio_transcription/0333_text_sw2dot0.txt'\n",
    "loader = TextLoader(filename)\n",
    "doc_karpathy = loader.load()[0]\n",
    "txt_sw20 = doc_karpathy.page_content\n",
    "\n",
    "filename = 'audio_transcription/0333_text_sd.txt'\n",
    "loader = TextLoader(filename)\n",
    "doc_karpathy = loader.load()[0]\n",
    "txt_sd= doc_karpathy.page_content\n",
    "\n",
    "chain = QAGenerationChain.from_llm(ChatOpenAI(temperature = 0))\n",
    "qa_karpathy_transformer = chain.run(txt_transformer)\n",
    "\n",
    "chain = QAGenerationChain.from_llm(ChatOpenAI(temperature = 0))\n",
    "qa_karpathy_sw20 = chain.run(txt_sw20)\n",
    "\n",
    "chain = QAGenerationChain.from_llm(ChatOpenAI(temperature = 0))\n",
    "qa_karpathy_sd= chain.run(txt_sd)\n",
    "\n",
    "qa_all = qa_karpathy_transformer + qa_karpathy_sw20 + qa_karpathy_sd\n",
    "qa_all"
   ]
  },
  {
   "attachments": {},
   "cell_type": "markdown",
   "metadata": {},
   "source": [
    "`Llama-Index`\n",
    "\n",
    "https://colab.research.google.com/drive/1uL1TdMbR4kqa0Ksrd_Of_jWSxWt1ia7o?usp=sharing#scrollTo=3a5cb155-cfe0-4c89-a2b4-c61d5b7cbe61\n",
    "\n",
    "\n",
    "https://gpt-index.readthedocs.io/en/latest/guides/usage_pattern.html\n",
    "\n",
    "* chunk_size_limit (Optional[int]) – Optional chunk size limit. If not provided, will use the default chunk size limit (4096 max input size).\n",
    "\n",
    "`Eval`\n",
    "https://langchain.readthedocs.io/en/latest/use_cases/evaluation/qa_generation.html"
   ]
  },
  {
   "cell_type": "code",
   "execution_count": 10,
   "metadata": {},
   "outputs": [
    {
     "name": "stderr",
     "output_type": "stream",
     "text": [
      "WARNING:llama_index.llm_predictor.base:Unknown max input size for gpt-3.5-turbo, using defaults.\n",
      "INFO:llama_index.token_counter.token_counter:> [build_index_from_documents] Total LLM token usage: 0 tokens\n",
      "INFO:llama_index.token_counter.token_counter:> [build_index_from_documents] Total embedding token usage: 48505 tokens\n",
      "WARNING:llama_index.llm_predictor.base:Unknown max input size for gpt-3.5-turbo, using defaults.\n",
      "INFO:llama_index.token_counter.token_counter:> [build_index_from_documents] Total LLM token usage: 0 tokens\n",
      "INFO:llama_index.token_counter.token_counter:> [build_index_from_documents] Total embedding token usage: 48505 tokens\n"
     ]
    }
   ],
   "source": [
    "from llama_index import download_loader, GPTSimpleVectorIndex\n",
    "from llama_index import Document\n",
    "from llama_index import LLMPredictor\n",
    "\n",
    "llm_predictor = LLMPredictor(llm=ChatOpenAI(temperature=0, max_tokens=512))\n",
    "text_list = list(doc['clean_chunks'])\n",
    "documents = [Document(t) for t in text_list]\n",
    "llama_ix_512 = GPTSimpleVectorIndex(documents,chunk_size_limit=512,llm_predictor=llm_predictor)\n",
    "llama_ix = GPTSimpleVectorIndex(documents,llm_predictor=llm_predictor)\n"
   ]
  },
  {
   "cell_type": "code",
   "execution_count": 11,
   "metadata": {},
   "outputs": [
    {
     "name": "stderr",
     "output_type": "stream",
     "text": [
      "INFO:faiss.loader:Loading faiss.\n",
      "INFO:faiss.loader:Successfully loaded faiss.\n"
     ]
    }
   ],
   "source": [
    "def make_splits(chunk_size,overlap,texts,links,episode_id):\n",
    "\n",
    "    text_splitter = RecursiveCharacterTextSplitter(chunk_size=chunk_size, chunk_overlap=overlap) \n",
    "    splits = text_splitter.split_text(texts)\n",
    "    bins = np.linspace(0,len(links)-1,len(splits),dtype=int)\n",
    "    sampled_links = [links[i] for i in bins]\n",
    "    metadatas=[{\"source\":link,\"id\":episode_id,\"link\":link} for link in sampled_links]\n",
    "    db = FAISS.from_texts(splits, OpenAIEmbeddings(), metadatas=metadatas) \n",
    "    chain = VectorDBQA.from_chain_type(llm=ChatOpenAI(temperature=0), \n",
    "                                       chain_type=\"stuff\", \n",
    "                                       vectorstore=db, \n",
    "                                       input_key=\"question\")\n",
    "    \n",
    "    return chain \n",
    "\n",
    "episode_id = \"0333\"\n",
    "doc = pd.read_csv(\"audio_transcription/%s.txt\"%episode_id,sep='\\t')\n",
    "doc.columns=['links','time','chunks']\n",
    "doc['clean_chunks']=doc['chunks'].astype(str).apply(lambda x: x.strip())\n",
    "\n",
    "chains = {}\n",
    "overlap = 50\n",
    "for chunk_size in [250,500,1000,2000,3000]:\n",
    "    chain = make_splits(chunk_size,overlap,list(doc['clean_chunks']),list(doc['links']),episode_id)\n",
    "    chains[chunk_size] = chain\n"
   ]
  },
  {
   "cell_type": "code",
   "execution_count": 25,
   "metadata": {},
   "outputs": [
    {
     "name": "stderr",
     "output_type": "stream",
     "text": [
      "WARNING:/Users/31treehaus/opt/anaconda3/envs/ml/lib/python3.9/site-packages/langchain/chat_models/openai.py:Retrying langchain.chat_models.openai.ChatOpenAI.completion_with_retry.<locals>._completion_with_retry in 4.0 seconds as it raised Timeout: Request timed out: HTTPSConnectionPool(host='api.openai.com', port=443): Read timed out. (read timeout=600).\n"
     ]
    },
    {
     "name": "stdout",
     "output_type": "stream",
     "text": [
      "Elapsed time: 725.9269256591797 seconds\n",
      "--------\n",
      "Elapsed time: 3.88500714302063 seconds\n",
      "--------\n",
      "Elapsed time: 3.8118197917938232 seconds\n",
      "--------\n"
     ]
    },
    {
     "name": "stderr",
     "output_type": "stream",
     "text": [
      "WARNING:/Users/31treehaus/opt/anaconda3/envs/ml/lib/python3.9/site-packages/langchain/chat_models/openai.py:Retrying langchain.chat_models.openai.ChatOpenAI.completion_with_retry.<locals>._completion_with_retry in 4.0 seconds as it raised Timeout: Request timed out: HTTPSConnectionPool(host='api.openai.com', port=443): Read timed out. (read timeout=600).\n"
     ]
    },
    {
     "name": "stdout",
     "output_type": "stream",
     "text": [
      "Elapsed time: 11818.47865486145 seconds\n",
      "--------\n",
      "Elapsed time: 3.0771851539611816 seconds\n",
      "--------\n",
      "Elapsed time: 3.8846051692962646 seconds\n",
      "--------\n",
      "Elapsed time: 2.6876630783081055 seconds\n",
      "--------\n"
     ]
    },
    {
     "name": "stderr",
     "output_type": "stream",
     "text": [
      "WARNING:/Users/31treehaus/opt/anaconda3/envs/ml/lib/python3.9/site-packages/langchain/chat_models/openai.py:Retrying langchain.chat_models.openai.ChatOpenAI.completion_with_retry.<locals>._completion_with_retry in 4.0 seconds as it raised Timeout: Request timed out: HTTPSConnectionPool(host='api.openai.com', port=443): Read timed out. (read timeout=600).\n"
     ]
    },
    {
     "name": "stdout",
     "output_type": "stream",
     "text": [
      "Elapsed time: 12272.676991939545 seconds\n",
      "--------\n",
      "Elapsed time: 5.000528812408447 seconds\n",
      "--------\n",
      "Elapsed time: 4.8211870193481445 seconds\n",
      "--------\n",
      "Elapsed time: 4.371562957763672 seconds\n",
      "--------\n",
      "Elapsed time: 5.219797134399414 seconds\n",
      "--------\n",
      "Elapsed time: 4.601593017578125 seconds\n",
      "--------\n",
      "Elapsed time: 1.9504101276397705 seconds\n",
      "--------\n",
      "Elapsed time: 5.928202152252197 seconds\n",
      "--------\n"
     ]
    },
    {
     "name": "stderr",
     "output_type": "stream",
     "text": [
      "WARNING:/Users/31treehaus/opt/anaconda3/envs/ml/lib/python3.9/site-packages/langchain/chat_models/openai.py:Retrying langchain.chat_models.openai.ChatOpenAI.completion_with_retry.<locals>._completion_with_retry in 4.0 seconds as it raised Timeout: Request timed out: HTTPSConnectionPool(host='api.openai.com', port=443): Read timed out. (read timeout=600).\n"
     ]
    },
    {
     "name": "stdout",
     "output_type": "stream",
     "text": [
      "Elapsed time: 6290.852502822876 seconds\n",
      "--------\n",
      "Elapsed time: 5.34326696395874 seconds\n",
      "--------\n",
      "Elapsed time: 4.804105997085571 seconds\n",
      "--------\n",
      "Elapsed time: 3.5940332412719727 seconds\n",
      "--------\n",
      "Elapsed time: 4.095090866088867 seconds\n",
      "--------\n",
      "Elapsed time: 2.1014280319213867 seconds\n",
      "--------\n",
      "Elapsed time: 5.776889085769653 seconds\n",
      "--------\n",
      "Elapsed time: 6.121999025344849 seconds\n",
      "--------\n",
      "Elapsed time: 5.7978010177612305 seconds\n",
      "--------\n",
      "Elapsed time: 6.471468925476074 seconds\n",
      "--------\n",
      "Elapsed time: 7.53118896484375 seconds\n",
      "--------\n",
      "Elapsed time: 5.115376949310303 seconds\n",
      "--------\n",
      "Elapsed time: 2.8032829761505127 seconds\n",
      "--------\n",
      "Elapsed time: 6.145335912704468 seconds\n",
      "--------\n",
      "Elapsed time: 6.848323106765747 seconds\n",
      "--------\n",
      "Elapsed time: 8.173394918441772 seconds\n",
      "--------\n",
      "Elapsed time: 5.457597970962524 seconds\n",
      "--------\n",
      "Elapsed time: 6.666595220565796 seconds\n",
      "--------\n",
      "Elapsed time: 5.057386875152588 seconds\n",
      "--------\n",
      "Elapsed time: 1.9936869144439697 seconds\n",
      "--------\n",
      "What is the transformer architecture in deep learning?\n"
     ]
    },
    {
     "name": "stderr",
     "output_type": "stream",
     "text": [
      "INFO:llama_index.token_counter.token_counter:> [query] Total LLM token usage: 54 tokens\n",
      "INFO:llama_index.token_counter.token_counter:> [query] Total embedding token usage: 9 tokens\n"
     ]
    },
    {
     "name": "stdout",
     "output_type": "stream",
     "text": [
      "The transformer architecture is a type of architecture used in deep learning.\n"
     ]
    },
    {
     "name": "stderr",
     "output_type": "stream",
     "text": [
      "INFO:llama_index.token_counter.token_counter:> [query] Total LLM token usage: 54 tokens\n",
      "INFO:llama_index.token_counter.token_counter:> [query] Total embedding token usage: 9 tokens\n"
     ]
    },
    {
     "name": "stdout",
     "output_type": "stream",
     "text": [
      "Elapsed time: 5.529140949249268 seconds\n",
      "--------\n",
      "What is a transformer and how is it designed?\n"
     ]
    },
    {
     "name": "stderr",
     "output_type": "stream",
     "text": [
      "INFO:llama_index.token_counter.token_counter:> [query] Total LLM token usage: 65 tokens\n",
      "INFO:llama_index.token_counter.token_counter:> [query] Total embedding token usage: 10 tokens\n"
     ]
    },
    {
     "name": "stdout",
     "output_type": "stream",
     "text": [
      "A transformer is a type of architecture, but without further information it is unclear what type of architecture it refers to.\n"
     ]
    },
    {
     "name": "stderr",
     "output_type": "stream",
     "text": [
      "INFO:llama_index.token_counter.token_counter:> [query] Total LLM token usage: 65 tokens\n",
      "INFO:llama_index.token_counter.token_counter:> [query] Total embedding token usage: 10 tokens\n"
     ]
    },
    {
     "name": "stdout",
     "output_type": "stream",
     "text": [
      "Elapsed time: 5.831722974777222 seconds\n",
      "--------\n",
      "What is a transformer architecture and why is it important?\n"
     ]
    },
    {
     "name": "stderr",
     "output_type": "stream",
     "text": [
      "INFO:llama_index.token_counter.token_counter:> [query] Total LLM token usage: 103 tokens\n",
      "INFO:llama_index.token_counter.token_counter:> [query] Total embedding token usage: 11 tokens\n"
     ]
    },
    {
     "name": "stdout",
     "output_type": "stream",
     "text": [
      "A transformer architecture is a type of neural network architecture used in natural language processing tasks. It is important because it allows for efficient processing of sequential data, such as text, by attending to the relevant parts of the input sequence. This has led to significant improvements in language modeling and other NLP tasks.\n"
     ]
    },
    {
     "name": "stderr",
     "output_type": "stream",
     "text": [
      "INFO:llama_index.token_counter.token_counter:> [query] Total LLM token usage: 103 tokens\n",
      "INFO:llama_index.token_counter.token_counter:> [query] Total embedding token usage: 11 tokens\n"
     ]
    },
    {
     "name": "stdout",
     "output_type": "stream",
     "text": [
      "Elapsed time: 9.424509763717651 seconds\n",
      "--------\n",
      "What is a language model and how does it work?\n"
     ]
    },
    {
     "name": "stderr",
     "output_type": "stream",
     "text": [
      "INFO:llama_index.token_counter.token_counter:> [query] Total LLM token usage: 112 tokens\n",
      "INFO:llama_index.token_counter.token_counter:> [query] Total embedding token usage: 11 tokens\n"
     ]
    },
    {
     "name": "stdout",
     "output_type": "stream",
     "text": [
      "A language model is a computational model that is designed to predict the probability of a sequence of words in a given language. It works by analyzing large amounts of text data and learning the patterns and relationships between words. This allows the model to generate new sentences or predict the likelihood of a particular sentence being grammatically correct and semantically meaningful.\n"
     ]
    },
    {
     "name": "stderr",
     "output_type": "stream",
     "text": [
      "INFO:llama_index.token_counter.token_counter:> [query] Total LLM token usage: 112 tokens\n",
      "INFO:llama_index.token_counter.token_counter:> [query] Total embedding token usage: 11 tokens\n"
     ]
    },
    {
     "name": "stdout",
     "output_type": "stream",
     "text": [
      "Elapsed time: 9.728826999664307 seconds\n",
      "--------\n",
      "What is the author's opinion on the transition to software 2.0?\n"
     ]
    },
    {
     "name": "stderr",
     "output_type": "stream",
     "text": [
      "INFO:llama_index.token_counter.token_counter:> [query] Total LLM token usage: 84 tokens\n",
      "INFO:llama_index.token_counter.token_counter:> [query] Total embedding token usage: 15 tokens\n"
     ]
    },
    {
     "name": "stdout",
     "output_type": "stream",
     "text": [
      "There is no clear indication of the author's opinion on the transition to software 2.0.\n"
     ]
    },
    {
     "name": "stderr",
     "output_type": "stream",
     "text": [
      "INFO:llama_index.token_counter.token_counter:> [query] Total LLM token usage: 84 tokens\n",
      "INFO:llama_index.token_counter.token_counter:> [query] Total embedding token usage: 15 tokens\n"
     ]
    },
    {
     "name": "stdout",
     "output_type": "stream",
     "text": [
      "Elapsed time: 5.733378171920776 seconds\n",
      "--------\n",
      "What is the task of programming in software 2.0?\n"
     ]
    },
    {
     "name": "stderr",
     "output_type": "stream",
     "text": [
      "INFO:llama_index.token_counter.token_counter:> [query] Total LLM token usage: 97 tokens\n",
      "INFO:llama_index.token_counter.token_counter:> [query] Total embedding token usage: 12 tokens\n"
     ]
    },
    {
     "name": "stdout",
     "output_type": "stream",
     "text": [
      "The question is asking for an opinion on the task of programming in software 2.0. It does not provide a clear answer or definition of what software 2.0 is.\n"
     ]
    },
    {
     "name": "stderr",
     "output_type": "stream",
     "text": [
      "INFO:llama_index.token_counter.token_counter:> [query] Total LLM token usage: 97 tokens\n",
      "INFO:llama_index.token_counter.token_counter:> [query] Total embedding token usage: 12 tokens\n"
     ]
    },
    {
     "name": "stdout",
     "output_type": "stream",
     "text": [
      "Elapsed time: 7.20390510559082 seconds\n",
      "--------\n",
      "What are the three properties of a good dataset for supervised learning?\n"
     ]
    },
    {
     "name": "stderr",
     "output_type": "stream",
     "text": [
      "INFO:llama_index.token_counter.token_counter:> [query] Total LLM token usage: 99 tokens\n",
      "INFO:llama_index.token_counter.token_counter:> [query] Total embedding token usage: 13 tokens\n"
     ]
    },
    {
     "name": "stdout",
     "output_type": "stream",
     "text": [
      "There are no specific three properties mentioned in the given context information. However, it is implied that a good dataset for supervised learning should include input data, desired output data, and sufficient quantity and quality of data.\n"
     ]
    },
    {
     "name": "stderr",
     "output_type": "stream",
     "text": [
      "INFO:llama_index.token_counter.token_counter:> [query] Total LLM token usage: 99 tokens\n",
      "INFO:llama_index.token_counter.token_counter:> [query] Total embedding token usage: 13 tokens\n"
     ]
    },
    {
     "name": "stdout",
     "output_type": "stream",
     "text": [
      "Elapsed time: 7.513329267501831 seconds\n",
      "--------\n",
      "What is the transformer architecture in deep learning?\n"
     ]
    },
    {
     "name": "stderr",
     "output_type": "stream",
     "text": [
      "INFO:llama_index.token_counter.token_counter:> [query] Total LLM token usage: 54 tokens\n",
      "INFO:llama_index.token_counter.token_counter:> [query] Total embedding token usage: 9 tokens\n"
     ]
    },
    {
     "name": "stdout",
     "output_type": "stream",
     "text": [
      "The transformer architecture is a type of architecture used in deep learning.\n"
     ]
    },
    {
     "name": "stderr",
     "output_type": "stream",
     "text": [
      "INFO:llama_index.token_counter.token_counter:> [query] Total LLM token usage: 54 tokens\n",
      "INFO:llama_index.token_counter.token_counter:> [query] Total embedding token usage: 9 tokens\n"
     ]
    },
    {
     "name": "stdout",
     "output_type": "stream",
     "text": [
      "Elapsed time: 5.20123815536499 seconds\n",
      "--------\n",
      "What is a transformer and how is it designed?\n"
     ]
    },
    {
     "name": "stderr",
     "output_type": "stream",
     "text": [
      "INFO:llama_index.token_counter.token_counter:> [query] Total LLM token usage: 65 tokens\n",
      "INFO:llama_index.token_counter.token_counter:> [query] Total embedding token usage: 10 tokens\n"
     ]
    },
    {
     "name": "stdout",
     "output_type": "stream",
     "text": [
      "A transformer is a type of architecture, but without further information it is unclear what type of architecture it refers to.\n"
     ]
    },
    {
     "name": "stderr",
     "output_type": "stream",
     "text": [
      "INFO:llama_index.token_counter.token_counter:> [query] Total LLM token usage: 65 tokens\n",
      "INFO:llama_index.token_counter.token_counter:> [query] Total embedding token usage: 10 tokens\n"
     ]
    },
    {
     "name": "stdout",
     "output_type": "stream",
     "text": [
      "Elapsed time: 6.196987867355347 seconds\n",
      "--------\n",
      "What is a transformer architecture and why is it important?\n"
     ]
    },
    {
     "name": "stderr",
     "output_type": "stream",
     "text": [
      "INFO:llama_index.token_counter.token_counter:> [query] Total LLM token usage: 107 tokens\n",
      "INFO:llama_index.token_counter.token_counter:> [query] Total embedding token usage: 11 tokens\n"
     ]
    },
    {
     "name": "stdout",
     "output_type": "stream",
     "text": [
      "A transformer architecture is a type of neural network architecture used in natural language processing tasks. It is important because it allows for efficient processing of sequential data, such as text, by attending to the relevant parts of the input sequence. This has led to significant improvements in language modeling, machine translation, and other NLP tasks.\n"
     ]
    },
    {
     "name": "stderr",
     "output_type": "stream",
     "text": [
      "INFO:llama_index.token_counter.token_counter:> [query] Total LLM token usage: 107 tokens\n",
      "INFO:llama_index.token_counter.token_counter:> [query] Total embedding token usage: 11 tokens\n"
     ]
    },
    {
     "name": "stdout",
     "output_type": "stream",
     "text": [
      "Elapsed time: 9.511483192443848 seconds\n",
      "--------\n",
      "What is a language model and how does it work?\n"
     ]
    },
    {
     "name": "stderr",
     "output_type": "stream",
     "text": [
      "INFO:llama_index.token_counter.token_counter:> [query] Total LLM token usage: 114 tokens\n",
      "INFO:llama_index.token_counter.token_counter:> [query] Total embedding token usage: 11 tokens\n"
     ]
    },
    {
     "name": "stdout",
     "output_type": "stream",
     "text": [
      "A language model is a type of artificial intelligence that is designed to predict the likelihood of a sequence of words in a given language. It works by analyzing large amounts of text data and using statistical methods to identify patterns and relationships between words. The model then uses this information to generate new text that is similar in style and content to the original data.\n"
     ]
    },
    {
     "name": "stderr",
     "output_type": "stream",
     "text": [
      "INFO:llama_index.token_counter.token_counter:> [query] Total LLM token usage: 112 tokens\n",
      "INFO:llama_index.token_counter.token_counter:> [query] Total embedding token usage: 11 tokens\n"
     ]
    },
    {
     "name": "stdout",
     "output_type": "stream",
     "text": [
      "Elapsed time: 9.832738161087036 seconds\n",
      "--------\n",
      "What is the author's opinion on the transition to software 2.0?\n"
     ]
    },
    {
     "name": "stderr",
     "output_type": "stream",
     "text": [
      "INFO:llama_index.token_counter.token_counter:> [query] Total LLM token usage: 84 tokens\n",
      "INFO:llama_index.token_counter.token_counter:> [query] Total embedding token usage: 15 tokens\n"
     ]
    },
    {
     "name": "stdout",
     "output_type": "stream",
     "text": [
      "There is no clear indication of the author's opinion on the transition to software 2.0.\n"
     ]
    },
    {
     "name": "stderr",
     "output_type": "stream",
     "text": [
      "INFO:llama_index.token_counter.token_counter:> [query] Total LLM token usage: 84 tokens\n",
      "INFO:llama_index.token_counter.token_counter:> [query] Total embedding token usage: 15 tokens\n"
     ]
    },
    {
     "name": "stdout",
     "output_type": "stream",
     "text": [
      "Elapsed time: 5.865574836730957 seconds\n",
      "--------\n",
      "What is the task of programming in software 2.0?\n"
     ]
    },
    {
     "name": "stderr",
     "output_type": "stream",
     "text": [
      "INFO:llama_index.token_counter.token_counter:> [query] Total LLM token usage: 88 tokens\n",
      "INFO:llama_index.token_counter.token_counter:> [query] Total embedding token usage: 12 tokens\n"
     ]
    },
    {
     "name": "stdout",
     "output_type": "stream",
     "text": [
      "The question is asking for an opinion on the task of programming in software 2.0. It does not provide a definitive answer.\n"
     ]
    },
    {
     "name": "stderr",
     "output_type": "stream",
     "text": [
      "INFO:llama_index.token_counter.token_counter:> [query] Total LLM token usage: 97 tokens\n",
      "INFO:llama_index.token_counter.token_counter:> [query] Total embedding token usage: 12 tokens\n"
     ]
    },
    {
     "name": "stdout",
     "output_type": "stream",
     "text": [
      "Elapsed time: 6.613225936889648 seconds\n",
      "--------\n",
      "What are the three properties of a good dataset for supervised learning?\n"
     ]
    },
    {
     "name": "stderr",
     "output_type": "stream",
     "text": [
      "INFO:llama_index.token_counter.token_counter:> [query] Total LLM token usage: 99 tokens\n",
      "INFO:llama_index.token_counter.token_counter:> [query] Total embedding token usage: 13 tokens\n"
     ]
    },
    {
     "name": "stdout",
     "output_type": "stream",
     "text": [
      "There are no specific three properties mentioned in the given context information. However, it is implied that a good dataset for supervised learning should include input data, desired output data, and sufficient quantity and quality of data.\n"
     ]
    },
    {
     "name": "stderr",
     "output_type": "stream",
     "text": [
      "INFO:llama_index.token_counter.token_counter:> [query] Total LLM token usage: 99 tokens\n",
      "INFO:llama_index.token_counter.token_counter:> [query] Total embedding token usage: 13 tokens\n"
     ]
    },
    {
     "name": "stdout",
     "output_type": "stream",
     "text": [
      "Elapsed time: 7.5888872146606445 seconds\n",
      "--------\n",
      "[[{'text': 'INCORRECT'}, {'text': 'INCORRECT'}, {'text': 'CORRECT'}, {'text': 'CORRECT'}, {'text': 'INCORRECT'}, {'text': 'INCORRECT'}, {'text': 'INCORRECT'}], [{'text': 'CORRECT'}, {'text': 'INCORRECT'}, {'text': 'CORRECT'}, {'text': 'CORRECT'}, {'text': 'INCORRECT'}, {'text': 'CORRECT'}, {'text': 'CORRECT'}], [{'text': 'CORRECT'}, {'text': 'INCORRECT'}, {'text': 'CORRECT'}, {'text': 'CORRECT'}, {'text': 'CORRECT'}, {'text': 'CORRECT'}, {'text': 'CORRECT'}], [{'text': \"PARTIALLY CORRECT. The student's answer accurately describes some aspects of the transformer architecture, such as its general-purpose nature, message passing scheme, and use in various tasks. However, it incorrectly states that the transformer architecture is designed to be optimizable via gradient descent and efficient in hardware, which are not unique to this architecture. Additionally, the true answer specifies that the transformer architecture can process different sensory modalities, which the student's answer does not mention.\"}, {'text': 'INCORRECT'}, {'text': 'CORRECT'}, {'text': 'CORRECT'}, {'text': 'CORRECT'}, {'text': 'INCORRECT'}, {'text': 'CORRECT'}], [{'text': 'CORRECT'}, {'text': 'INCORRECT'}, {'text': 'CORRECT'}, {'text': 'CORRECT'}, {'text': 'CORRECT'}, {'text': 'INCORRECT'}, {'text': 'CORRECT'}], [{'text': 'CORRECT'}, {'text': 'INCORRECT'}, {'text': 'CORRECT'}, {'text': 'PARTIALLY CORRECT'}, {'text': 'INCORRECT'}, {'text': 'INCORRECT'}, {'text': 'INCORRECT'}], [{'text': 'CORRECT'}, {'text': 'INCORRECT'}, {'text': 'CORRECT'}, {'text': 'CORRECT'}, {'text': 'INCORRECT'}, {'text': 'INCORRECT'}, {'text': 'INCORRECT'}]]\n"
     ]
    }
   ],
   "source": [
    "def run_eval(chain,ix_type):\n",
    "    predictions = []\n",
    "    predicted_dataset = []\n",
    "    for data in qa_all:\n",
    "        start_time = time.time()\n",
    "        new_data = {\"question\": data[\"question\"],\"answer\": data[\"answer\"]}\n",
    "        if ix_type == \"langchain\":\n",
    "            predictions.append(chain(new_data))\n",
    "            predicted_dataset.append(new_data)\n",
    "        elif ix_type == \"llama\":\n",
    "            print(new_data[\"question\"])\n",
    "            print(chain.query(new_data[\"question\"]).response)\n",
    "            predictions.append({\"result\":chain.query(new_data[\"question\"]).response})\n",
    "            predicted_dataset.append(new_data)\n",
    "        end_time = time.time()\n",
    "        elapsed_time = end_time - start_time\n",
    "        print(f\"Elapsed time: {elapsed_time} seconds\")\n",
    "        print(\"--------\")\n",
    "    return predictions,predicted_dataset\n",
    "\n",
    "predictions_list = []\n",
    "scores_list = []\n",
    "eval_chain = QAEvalChain.from_llm(llm=ChatOpenAI(temperature=0))\n",
    "\n",
    "for chunk_size in [250,500,1000,2000,3000]:\n",
    "    predictions,predicted_dataset=run_eval(chains[chunk_size],\"langchain\")\n",
    "    predictions_list.append(predictions)\n",
    "    graded_outputs = eval_chain.evaluate(predicted_dataset, predictions, question_key=\"question\", prediction_key=\"result\")\n",
    "    scores_list.append(graded_outputs)\n",
    "\n",
    "for ix in [llama_ix_512,llama_ix]:\n",
    "    predictions,predicted_dataset=run_eval(ix,\"llama\")\n",
    "    predictions_list.append(predictions)\n",
    "    graded_outputs = eval_chain.evaluate(predicted_dataset, predictions, question_key=\"question\", prediction_key=\"result\")\n",
    "    scores_list.append(graded_outputs)\n",
    "\n",
    "print(scores_list)"
   ]
  },
  {
   "cell_type": "code",
   "execution_count": 19,
   "metadata": {},
   "outputs": [
    {
     "data": {
      "text/plain": [
       "[Response(response='\\n\\nThe transformer architecture is a type of architecture used in deep learning.', source_nodes=[SourceNode(source_text='the transformer architecture.', doc_id='8e06f2f8-4696-4a16-aaaa-d05820a044cd', extra_info=None, node_info={'start': 0, 'end': 29}, similarity=0.9112588378605513, image=None)], extra_info=None),\n",
       " Response(response='\\n\\nA transformer is a type of architecture, but without further information it is unclear what type of architecture it refers to.', source_nodes=[SourceNode(source_text='the transformer architecture.', doc_id='8e06f2f8-4696-4a16-aaaa-d05820a044cd', extra_info=None, node_info={'start': 0, 'end': 29}, similarity=0.8776223552817073, image=None)], extra_info=None),\n",
       " Response(response='\\n\\nA transformer architecture is a type of neural network architecture used in natural language processing tasks. It is important because it allows for efficient processing of sequential data, such as text, by attending to the relevant parts of the input sequence. This has led to significant improvements in language modeling, machine translation, and other NLP tasks.', source_nodes=[SourceNode(source_text='the transformer architecture.', doc_id='8e06f2f8-4696-4a16-aaaa-d05820a044cd', extra_info=None, node_info={'start': 0, 'end': 29}, similarity=0.9160470456680475, image=None)], extra_info=None),\n",
       " Response(response='\\n\\nA language model is a computational model that is designed to predict the probability of a sequence of words in a given language. It works by analyzing large amounts of text data and learning the patterns and relationships between words. The model then uses this knowledge to generate new text or predict the likelihood of a particular sequence of words. Essentially, a language model is a tool that helps computers understand and generate human language.', source_nodes=[SourceNode(source_text='What a language model is?', doc_id='12c2334f-69f1-4f7c-b241-45de9e50feb3', extra_info=None, node_info={'start': 0, 'end': 25}, similarity=0.9583870813262071, image=None)], extra_info=None),\n",
       " Response(response=\"There is no clear indication of the author's opinion on the transition to software 2.0.\", source_nodes=[SourceNode(source_text='software 2.0. Like, what do you think is the task of programming in software 2.0?', doc_id='53d219c2-122c-4faf-ad5c-03f8ac1802ab', extra_info=None, node_info={'start': 0, 'end': 81}, similarity=0.9079777457547125, image=None)], extra_info=None),\n",
       " Response(response='\\n\\nThe question is asking for an opinion on what the task of programming is in software 2.0. It does not provide a clear answer or definition of software 2.0.', source_nodes=[SourceNode(source_text='software 2.0. Like, what do you think is the task of programming in software 2.0?', doc_id='53d219c2-122c-4faf-ad5c-03f8ac1802ab', extra_info=None, node_info={'start': 0, 'end': 81}, similarity=0.9551798761121904, image=None)], extra_info=None),\n",
       " Response(response='\\n\\nThere are two properties mentioned in the context information, not three. A good dataset for supervised learning should have input data, desired output data, and be labeled.', source_nodes=[SourceNode(source_text='everything is supervised learning. So you need data sets of input, desired output,', doc_id='588e95f4-89a6-4452-ba94-c5d12f05f464', extra_info=None, node_info={'start': 0, 'end': 82}, similarity=0.8239571926186022, image=None)], extra_info=None)]"
      ]
     },
     "execution_count": 19,
     "metadata": {},
     "output_type": "execute_result"
    }
   ],
   "source": [
    "for p in predictions_list:\n",
    "    for q in \n",
    "predictions_list[0]"
   ]
  },
  {
   "cell_type": "code",
   "execution_count": 26,
   "metadata": {},
   "outputs": [],
   "source": [
    "stor=pd.DataFrame()\n",
    "for i,chunk_size in enumerate([250,500,1000,2000,3000,'llama_ix_512','llama_ix']):\n",
    "    d=scores_list[i]\n",
    "    incorrect_counts = []\n",
    "    for dictionary in d:\n",
    "        if dictionary['text'] == 'INCORRECT':\n",
    "            incorrect_counts.append(1)\n",
    "        else:\n",
    "            incorrect_counts.append(0)\n",
    "    stor.loc[chunk_size,'num_incorrect']=sum(incorrect_counts)"
   ]
  },
  {
   "cell_type": "code",
   "execution_count": 27,
   "metadata": {},
   "outputs": [],
   "source": [
    "stor['pct_incorrect'] = stor['num_incorrect'] / 7"
   ]
  },
  {
   "cell_type": "code",
   "execution_count": 28,
   "metadata": {},
   "outputs": [
    {
     "data": {
      "image/png": "[encoded data removed]",
      "text/plain": [
       "<Figure size 640x480 with 1 Axes>"
      ]
     },
     "metadata": {},
     "output_type": "display_data"
    }
   ],
   "source": [
    "import matplotlib.pyplot as plt\n",
    "%matplotlib inline\n",
    "stor['pct_correct'] = 1 - stor['pct_incorrect']\n",
    "stor['pct_correct'].plot(kind='bar')\n",
    "plt.title('Percentage of Correct Answers')\n",
    "plt.xlabel('Chunk Size')\n",
    "plt.ylabel('Percentage')\n",
    "plt.show()"
   ]
  },
  {
   "cell_type": "code",
   "execution_count": 29,
   "metadata": {},
   "outputs": [
    {
     "data": {
      "text/html": [
       "<div>\n",
       "<style scoped>\n",
       "    .dataframe tbody tr th:only-of-type {\n",
       "        vertical-align: middle;\n",
       "    }\n",
       "\n",
       "    .dataframe tbody tr th {\n",
       "        vertical-align: top;\n",
       "    }\n",
       "\n",
       "    .dataframe thead th {\n",
       "        text-align: right;\n",
       "    }\n",
       "</style>\n",
       "<table border=\"1\" class=\"dataframe\">\n",
       "  <thead>\n",
       "    <tr style=\"text-align: right;\">\n",
       "      <th></th>\n",
       "      <th>num_incorrect</th>\n",
       "      <th>pct_incorrect</th>\n",
       "      <th>pct_correct</th>\n",
       "    </tr>\n",
       "  </thead>\n",
       "  <tbody>\n",
       "    <tr>\n",
       "      <th>250</th>\n",
       "      <td>5.0</td>\n",
       "      <td>0.714286</td>\n",
       "      <td>0.285714</td>\n",
       "    </tr>\n",
       "    <tr>\n",
       "      <th>500</th>\n",
       "      <td>2.0</td>\n",
       "      <td>0.285714</td>\n",
       "      <td>0.714286</td>\n",
       "    </tr>\n",
       "    <tr>\n",
       "      <th>1000</th>\n",
       "      <td>1.0</td>\n",
       "      <td>0.142857</td>\n",
       "      <td>0.857143</td>\n",
       "    </tr>\n",
       "    <tr>\n",
       "      <th>2000</th>\n",
       "      <td>2.0</td>\n",
       "      <td>0.285714</td>\n",
       "      <td>0.714286</td>\n",
       "    </tr>\n",
       "    <tr>\n",
       "      <th>3000</th>\n",
       "      <td>2.0</td>\n",
       "      <td>0.285714</td>\n",
       "      <td>0.714286</td>\n",
       "    </tr>\n",
       "    <tr>\n",
       "      <th>llama_ix_512</th>\n",
       "      <td>4.0</td>\n",
       "      <td>0.571429</td>\n",
       "      <td>0.428571</td>\n",
       "    </tr>\n",
       "    <tr>\n",
       "      <th>llama_ix</th>\n",
       "      <td>4.0</td>\n",
       "      <td>0.571429</td>\n",
       "      <td>0.428571</td>\n",
       "    </tr>\n",
       "  </tbody>\n",
       "</table>\n",
       "</div>"
      ],
      "text/plain": [
       "              num_incorrect  pct_incorrect  pct_correct\n",
       "250                     5.0       0.714286     0.285714\n",
       "500                     2.0       0.285714     0.714286\n",
       "1000                    1.0       0.142857     0.857143\n",
       "2000                    2.0       0.285714     0.714286\n",
       "3000                    2.0       0.285714     0.714286\n",
       "llama_ix_512            4.0       0.571429     0.428571\n",
       "llama_ix                4.0       0.571429     0.428571"
      ]
     },
     "execution_count": 29,
     "metadata": {},
     "output_type": "execute_result"
    }
   ],
   "source": [
    "stor"
   ]
  }
 ],
 "metadata": {
  "kernelspec": {
   "display_name": "Python 3 (ipykernel)",
   "language": "python",
   "name": "python3"
  },
  "language_info": {
   "codemirror_mode": {
    "name": "ipython",
    "version": 3
   },
   "file_extension": ".py",
   "mimetype": "text/x-python",
   "name": "python",
   "nbconvert_exporter": "python",
   "pygments_lexer": "ipython3",
   "version": "3.9.16"
  },
  "orig_nbformat": 4
 },
 "nbformat": 4,
 "nbformat_minor": 2
}
